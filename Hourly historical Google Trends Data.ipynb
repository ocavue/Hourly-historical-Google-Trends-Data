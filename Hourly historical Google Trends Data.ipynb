{
 "cells": [
  {
   "cell_type": "markdown",
   "metadata": {},
   "source": [
    "# Get hourly Google Trends Data for (Time Series) Analysis via Python API\n",
    "\n",
    "Google Trends is a service which provides meaningful insights on relative search requests on Google. The data can be accessed via the webside https://trends.google.com or Python/R API. In this tutorial I ll show you how to process the data via Python API to get historical and hourly long term Google Trends data.\n",
    "\n",
    "Google will return relative values between 0 and 100 for your query of an specific keyword. Whereas 0 means lowest search volumne and 100 the highest. A challange I experienced was that that the API returns only about 200 data points for your specified time period. That means if you querie data for one year, you will get about 200 data points, resulting in one data point every 365/~200 days which is scaled from 0 to 100. If you want hourly data, you need to query timeframes, which have about 200 data points and combine them - for example one week = 7*24 = 168 data points. But since your data will be scaled from 0 to 100 for each week of your query, your overall scaling will be wrong. That means, you can not get hourly and correctly scaled trends data for longer time periods without further processing. To get the correct scaling you need to overlap the weeks and calculate a ratio with which you will obtain the proper scaling."
   ]
  },
  {
   "cell_type": "code",
   "execution_count": 15,
   "metadata": {},
   "outputs": [],
   "source": [
    "import datetime\n",
    "from pytrends.request import TrendReq # pip install pytrends - Written for both Python 2.7+ and Python 3.3+\n",
    "import  pandas as pd\n",
    "import numpy as np\n",
    "import matplotlib.pyplot as plt\n"
   ]
  },
  {
   "cell_type": "code",
   "execution_count": 19,
   "metadata": {},
   "outputs": [],
   "source": [
    "\"\"\"Specify start and end date as well es the requiered keyword for your query\"\"\"\n",
    "start_date = datetime.date(2024, 5, 24)\n",
    "end_date = datetime.date(2024, 6, 6)\n",
    "keyword_list = [\"tinnitus\"] # If you add a second string, minor adjustments in the code have to be made"
   ]
  },
  {
   "cell_type": "code",
   "execution_count": 20,
   "metadata": {},
   "outputs": [],
   "source": [
    "\"\"\"Since we want weekly data for our query, we will create lists which include \n",
    "the weekly start and end date in the specified timeframe - 2018.01.01 to 2019.5.01\"\"\"\n",
    "\n",
    "weekly_date_list = []\n",
    "\n",
    "#Adds the start date as first entry in our weekly_date_list\n",
    "start_date_temp = start_date\n",
    "weekly_date_list.append(start_date_temp)\n",
    "\n",
    "#This will return in list of weekly datetime.date objects - except the end date\n",
    "while start_date_temp+datetime.timedelta(days=7) <= end_date:\n",
    "    start_date_temp += datetime.timedelta(days=7)\n",
    "    weekly_date_list.append(start_date_temp)\n",
    "\n",
    "#This will add the end date to the weekly_date list. We now have a complete list in the specified timeframe\n",
    "if start_date_temp+datetime.timedelta(days=7) > end_date:\n",
    "    weekly_date_list.append(end_date)"
   ]
  },
  {
   "cell_type": "code",
   "execution_count": 21,
   "metadata": {},
   "outputs": [
    {
     "data": {
      "text/plain": [
       "[datetime.date(2024, 5, 24),\n",
       " datetime.date(2024, 5, 31),\n",
       " datetime.date(2024, 6, 6)]"
      ]
     },
     "execution_count": 21,
     "metadata": {},
     "output_type": "execute_result"
    }
   ],
   "source": [
    "weekly_date_list"
   ]
  },
  {
   "cell_type": "code",
   "execution_count": 23,
   "metadata": {},
   "outputs": [
    {
     "name": "stdout",
     "output_type": "stream",
     "text": [
      "GoogleTrends Call 1 of 2 : Timeframe: 2024-05-24T00 2024-05-31T00 \n",
      "GoogleTrends Call 2 of 2 : Timeframe: 2024-05-31T00 2024-06-06T00 \n"
     ]
    }
   ],
   "source": [
    "\"\"\"Now we can start to downloading the data via Google Trends API\n",
    "therefore we have to specify a key which includes the start date\n",
    "and the end-date with T00 as string for hourly data request\"\"\"\n",
    "\n",
    "#This List will contain pandas Dataframes of weekly data with the features \"date\",\n",
    "#\"keyword\"(which contains weekly scaling bettwen 0 and 100), \"isPartial\".\n",
    "#Up to this point, the scaling is not correct.\n",
    "interest_list = []\n",
    "\n",
    "#Here we download the data and print the current status of the process\n",
    "for i in range(len(weekly_date_list)-1):\n",
    "    key =str(weekly_date_list[i])+\"T00 \"+str(weekly_date_list[i+1])+\"T00\"\n",
    "    p = TrendReq()\n",
    "    p.build_payload(kw_list=keyword_list, timeframe=key)\n",
    "    interest=p.interest_over_time()\n",
    "    interest_list.append(interest)\n",
    "    print(\"GoogleTrends Call {} of {} : Timeframe: {} \"\\\n",
    "          .format(i+1, len(weekly_date_list)-1, key )\n",
    "          )    "
   ]
  },
  {
   "cell_type": "code",
   "execution_count": 24,
   "metadata": {},
   "outputs": [
    {
     "data": {
      "text/plain": [
       "[                     tinnitus  isPartial\n",
       " date                                    \n",
       " 2024-05-24 00:00:00        37      False\n",
       " 2024-05-24 01:00:00        28      False\n",
       " 2024-05-24 02:00:00        34      False\n",
       " 2024-05-24 03:00:00        26      False\n",
       " 2024-05-24 04:00:00        19      False\n",
       " ...                       ...        ...\n",
       " 2024-05-30 20:00:00        33      False\n",
       " 2024-05-30 21:00:00        33      False\n",
       " 2024-05-30 22:00:00        31      False\n",
       " 2024-05-30 23:00:00        31      False\n",
       " 2024-05-31 00:00:00        30      False\n",
       " \n",
       " [169 rows x 2 columns],\n",
       "                      tinnitus  isPartial\n",
       " date                                    \n",
       " 2024-05-31 00:00:00        82      False\n",
       " 2024-05-31 01:00:00        78      False\n",
       " 2024-05-31 02:00:00        79      False\n",
       " 2024-05-31 03:00:00        79      False\n",
       " 2024-05-31 04:00:00        62      False\n",
       " ...                       ...        ...\n",
       " 2024-06-05 20:00:00        86      False\n",
       " 2024-06-05 21:00:00        90      False\n",
       " 2024-06-05 22:00:00        92      False\n",
       " 2024-06-05 23:00:00        82      False\n",
       " 2024-06-06 00:00:00        76      False\n",
       " \n",
       " [145 rows x 2 columns]]"
      ]
     },
     "execution_count": 24,
     "metadata": {},
     "output_type": "execute_result"
    }
   ],
   "source": [
    "interest_list"
   ]
  },
  {
   "cell_type": "code",
   "execution_count": 25,
   "metadata": {},
   "outputs": [
    {
     "name": "stdout",
     "output_type": "stream",
     "text": [
      "1 of 1: Ratio = 0.36585365853658536, Scale 1st hour of week 1 = 82.0, scale last hour of week 0 = 30.0\n"
     ]
    }
   ],
   "source": [
    "\"\"\"Now we have to rescale our weekly data. We can do this\n",
    "by overlapping the weekly timeframes by one data point.\"\"\"\n",
    "\n",
    "#We define a ratio list, which includes the correction parameters =\n",
    "#(scaling last hour of week i / scaling first hour of week i+1)\n",
    "ratio_list = []\n",
    "\n",
    "#here we apply the correction parameter to all dfs in the interest list except interest_list[0]\n",
    "for i in range(len(interest_list)-1):\n",
    "    #Calculation of the ratio\n",
    "    ratio = float(interest_list[i][keyword_list[0]].iloc[-1])/float(interest_list[i+1][keyword_list[0]].iloc[0]) \n",
    "    ratio_list.append(ratio)\n",
    "    print(\"{} of {}: Ratio = {}, Scale 1st hour of week {} = {}, scale last hour of week {} = {}\"\\\n",
    "          .format(i+1, len(interest_list)-1, ratio_list[i],\n",
    "                  i+1, float(interest_list[i+1][keyword_list[0]].iloc[0]),\n",
    "                  i ,float(interest_list[i][keyword_list[0]].iloc[-1]),\n",
    "                  )\n",
    "          )\n",
    "    #Multiply the ratio with the scales of week i+1\n",
    "    #Therefore we add the column \"Scale\" and multiply times the value in ratio_list[i]\n",
    "    #The make the calculations work for round i+1, we overwrite the values column of the df[keyword] with df[\"Scale\"] in the interest list\n",
    "    interest_list[0][\"Scale_{}\".format(keyword_list[0])] = interest_list[0][keyword_list[0]]\n",
    "    interest_list[i+1][\"Scale_{}\".format(keyword_list[0])] = interest_list[i+1][keyword_list[0]].apply(lambda x:x*ratio_list[i])\n",
    "    interest_list[i+1][keyword_list[0]] = interest_list[i+1][\"Scale_{}\".format(keyword_list[0])]"
   ]
  },
  {
   "cell_type": "code",
   "execution_count": 26,
   "metadata": {},
   "outputs": [
    {
     "data": {
      "text/html": [
       "<div>\n",
       "<style scoped>\n",
       "    .dataframe tbody tr th:only-of-type {\n",
       "        vertical-align: middle;\n",
       "    }\n",
       "\n",
       "    .dataframe tbody tr th {\n",
       "        vertical-align: top;\n",
       "    }\n",
       "\n",
       "    .dataframe thead th {\n",
       "        text-align: right;\n",
       "    }\n",
       "</style>\n",
       "<table border=\"1\" class=\"dataframe\">\n",
       "  <thead>\n",
       "    <tr style=\"text-align: right;\">\n",
       "      <th></th>\n",
       "      <th>Scale_tinnitus</th>\n",
       "    </tr>\n",
       "    <tr>\n",
       "      <th>date</th>\n",
       "      <th></th>\n",
       "    </tr>\n",
       "  </thead>\n",
       "  <tbody>\n",
       "    <tr>\n",
       "      <th>2024-05-24 00:00:00</th>\n",
       "      <td>37.0</td>\n",
       "    </tr>\n",
       "    <tr>\n",
       "      <th>2024-05-24 01:00:00</th>\n",
       "      <td>28.0</td>\n",
       "    </tr>\n",
       "    <tr>\n",
       "      <th>2024-05-24 02:00:00</th>\n",
       "      <td>34.0</td>\n",
       "    </tr>\n",
       "    <tr>\n",
       "      <th>2024-05-24 03:00:00</th>\n",
       "      <td>26.0</td>\n",
       "    </tr>\n",
       "    <tr>\n",
       "      <th>2024-05-24 04:00:00</th>\n",
       "      <td>19.0</td>\n",
       "    </tr>\n",
       "  </tbody>\n",
       "</table>\n",
       "</div>"
      ],
      "text/plain": [
       "                     Scale_tinnitus\n",
       "date                               \n",
       "2024-05-24 00:00:00            37.0\n",
       "2024-05-24 01:00:00            28.0\n",
       "2024-05-24 02:00:00            34.0\n",
       "2024-05-24 03:00:00            26.0\n",
       "2024-05-24 04:00:00            19.0"
      ]
     },
     "execution_count": 26,
     "metadata": {},
     "output_type": "execute_result"
    }
   ],
   "source": [
    "\"\"\"We now combine the dataframes in the interest list to a Pandas Dataframe.\n",
    "The data has the correct scaling now. But not yet in the range of 0 and 100.\"\"\"\n",
    "df = pd.concat(interest_list)\n",
    "df.drop(labels = keyword_list[0] , axis = 1, inplace = True)\n",
    "df.drop(labels = \"isPartial\", axis = 1, inplace = True)\n",
    "df.head(5)"
   ]
  },
  {
   "cell_type": "code",
   "execution_count": 27,
   "metadata": {},
   "outputs": [],
   "source": [
    "\"\"\"As last step we scale the data back like google to a range between 0 and 100.\"\"\"\n",
    "max_interest = np.max(df[\"Scale_{}\".format(keyword_list[0])])\n",
    "df[\"Scale_{}\".format(keyword_list[0])]=df[\"Scale_{}\".format(keyword_list[0])]/max_interest*100"
   ]
  },
  {
   "cell_type": "code",
   "execution_count": 28,
   "metadata": {},
   "outputs": [
    {
     "data": {
      "text/html": [
       "<div>\n",
       "<style scoped>\n",
       "    .dataframe tbody tr th:only-of-type {\n",
       "        vertical-align: middle;\n",
       "    }\n",
       "\n",
       "    .dataframe tbody tr th {\n",
       "        vertical-align: top;\n",
       "    }\n",
       "\n",
       "    .dataframe thead th {\n",
       "        text-align: right;\n",
       "    }\n",
       "</style>\n",
       "<table border=\"1\" class=\"dataframe\">\n",
       "  <thead>\n",
       "    <tr style=\"text-align: right;\">\n",
       "      <th></th>\n",
       "      <th>Scale_tinnitus</th>\n",
       "    </tr>\n",
       "    <tr>\n",
       "      <th>date</th>\n",
       "      <th></th>\n",
       "    </tr>\n",
       "  </thead>\n",
       "  <tbody>\n",
       "    <tr>\n",
       "      <th>2024-05-24 00:00:00</th>\n",
       "      <td>37.000000</td>\n",
       "    </tr>\n",
       "    <tr>\n",
       "      <th>2024-05-24 01:00:00</th>\n",
       "      <td>28.000000</td>\n",
       "    </tr>\n",
       "    <tr>\n",
       "      <th>2024-05-24 02:00:00</th>\n",
       "      <td>34.000000</td>\n",
       "    </tr>\n",
       "    <tr>\n",
       "      <th>2024-05-24 03:00:00</th>\n",
       "      <td>26.000000</td>\n",
       "    </tr>\n",
       "    <tr>\n",
       "      <th>2024-05-24 04:00:00</th>\n",
       "      <td>19.000000</td>\n",
       "    </tr>\n",
       "    <tr>\n",
       "      <th>...</th>\n",
       "      <td>...</td>\n",
       "    </tr>\n",
       "    <tr>\n",
       "      <th>2024-06-05 20:00:00</th>\n",
       "      <td>31.463415</td>\n",
       "    </tr>\n",
       "    <tr>\n",
       "      <th>2024-06-05 21:00:00</th>\n",
       "      <td>32.926829</td>\n",
       "    </tr>\n",
       "    <tr>\n",
       "      <th>2024-06-05 22:00:00</th>\n",
       "      <td>33.658537</td>\n",
       "    </tr>\n",
       "    <tr>\n",
       "      <th>2024-06-05 23:00:00</th>\n",
       "      <td>30.000000</td>\n",
       "    </tr>\n",
       "    <tr>\n",
       "      <th>2024-06-06 00:00:00</th>\n",
       "      <td>27.804878</td>\n",
       "    </tr>\n",
       "  </tbody>\n",
       "</table>\n",
       "<p>314 rows × 1 columns</p>\n",
       "</div>"
      ],
      "text/plain": [
       "                     Scale_tinnitus\n",
       "date                               \n",
       "2024-05-24 00:00:00       37.000000\n",
       "2024-05-24 01:00:00       28.000000\n",
       "2024-05-24 02:00:00       34.000000\n",
       "2024-05-24 03:00:00       26.000000\n",
       "2024-05-24 04:00:00       19.000000\n",
       "...                             ...\n",
       "2024-06-05 20:00:00       31.463415\n",
       "2024-06-05 21:00:00       32.926829\n",
       "2024-06-05 22:00:00       33.658537\n",
       "2024-06-05 23:00:00       30.000000\n",
       "2024-06-06 00:00:00       27.804878\n",
       "\n",
       "[314 rows x 1 columns]"
      ]
     },
     "execution_count": 28,
     "metadata": {},
     "output_type": "execute_result"
    }
   ],
   "source": [
    "df"
   ]
  },
  {
   "cell_type": "code",
   "execution_count": 29,
   "metadata": {},
   "outputs": [
    {
     "data": {
      "text/html": [
       "<div>\n",
       "<style scoped>\n",
       "    .dataframe tbody tr th:only-of-type {\n",
       "        vertical-align: middle;\n",
       "    }\n",
       "\n",
       "    .dataframe tbody tr th {\n",
       "        vertical-align: top;\n",
       "    }\n",
       "\n",
       "    .dataframe thead th {\n",
       "        text-align: right;\n",
       "    }\n",
       "</style>\n",
       "<table border=\"1\" class=\"dataframe\">\n",
       "  <thead>\n",
       "    <tr style=\"text-align: right;\">\n",
       "      <th></th>\n",
       "      <th>Scale_tinnitus</th>\n",
       "    </tr>\n",
       "  </thead>\n",
       "  <tbody>\n",
       "    <tr>\n",
       "      <th>count</th>\n",
       "      <td>314.000000</td>\n",
       "    </tr>\n",
       "    <tr>\n",
       "      <th>mean</th>\n",
       "      <td>24.646963</td>\n",
       "    </tr>\n",
       "    <tr>\n",
       "      <th>std</th>\n",
       "      <td>7.140625</td>\n",
       "    </tr>\n",
       "    <tr>\n",
       "      <th>min</th>\n",
       "      <td>0.000000</td>\n",
       "    </tr>\n",
       "    <tr>\n",
       "      <th>25%</th>\n",
       "      <td>21.000000</td>\n",
       "    </tr>\n",
       "    <tr>\n",
       "      <th>50%</th>\n",
       "      <td>24.000000</td>\n",
       "    </tr>\n",
       "    <tr>\n",
       "      <th>75%</th>\n",
       "      <td>28.170732</td>\n",
       "    </tr>\n",
       "    <tr>\n",
       "      <th>max</th>\n",
       "      <td>100.000000</td>\n",
       "    </tr>\n",
       "  </tbody>\n",
       "</table>\n",
       "</div>"
      ],
      "text/plain": [
       "       Scale_tinnitus\n",
       "count      314.000000\n",
       "mean        24.646963\n",
       "std          7.140625\n",
       "min          0.000000\n",
       "25%         21.000000\n",
       "50%         24.000000\n",
       "75%         28.170732\n",
       "max        100.000000"
      ]
     },
     "execution_count": 29,
     "metadata": {},
     "output_type": "execute_result"
    }
   ],
   "source": [
    "df.describe()"
   ]
  },
  {
   "cell_type": "code",
   "execution_count": 30,
   "metadata": {},
   "outputs": [
    {
     "data": {
      "text/plain": [
       "[<matplotlib.lines.Line2D at 0x12ccca750>]"
      ]
     },
     "execution_count": 30,
     "metadata": {},
     "output_type": "execute_result"
    },
    {
     "data": {
      "image/png": "[encoded data removed]",
      "text/plain": [
       "<Figure size 640x480 with 1 Axes>"
      ]
     },
     "metadata": {},
     "output_type": "display_data"
    }
   ],
   "source": [
    "plt.plot(df)"
   ]
  },
  {
   "cell_type": "markdown",
   "metadata": {},
   "source": [
    "Done. The result shows the hourly google search volumne of the specified timeframe. Maybe there are daily, weekly or yearly patterns? Explore the data. Maybe you can later add the google trends feature as input parameter of an machine learning model for time series prediction."
   ]
  },
  {
   "cell_type": "code",
   "execution_count": null,
   "metadata": {},
   "outputs": [],
   "source": []
  },
  {
   "cell_type": "code",
   "execution_count": null,
   "metadata": {},
   "outputs": [],
   "source": []
  },
  {
   "cell_type": "code",
   "execution_count": null,
   "metadata": {},
   "outputs": [],
   "source": []
  }
 ],
 "metadata": {
  "kernelspec": {
   "display_name": "Python 3",
   "language": "python",
   "name": "python3"
  },
  "language_info": {
   "codemirror_mode": {
    "name": "ipython",
    "version": 3
   },
   "file_extension": ".py",
   "mimetype": "text/x-python",
   "name": "python",
   "nbconvert_exporter": "python",
   "pygments_lexer": "ipython3",
   "version": "3.12.3"
  }
 },
 "nbformat": 4,
 "nbformat_minor": 2
}
